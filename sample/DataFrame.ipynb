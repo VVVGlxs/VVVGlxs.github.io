{
 "cells": [
  {
   "cell_type": "markdown",
   "metadata": {},
   "source": [
    "# DataFrame\n",
    "\n",
    "1) Carga de imágenes\n",
    "\n",
    "2) División entre train y test"
   ]
  },
  {
   "cell_type": "code",
   "execution_count": 1,
   "metadata": {},
   "outputs": [],
   "source": [
    "%matplotlib inline\n",
    "\n",
    "import os\n",
    "from astropy.io import fits \n",
    "import pandas as pd\n",
    "import random\n",
    "import numpy as np"
   ]
  },
  {
   "cell_type": "code",
   "execution_count": 2,
   "metadata": {},
   "outputs": [],
   "source": [
    "random.seed(10)"
   ]
  },
  {
   "cell_type": "markdown",
   "metadata": {},
   "source": [
    "**Ejemplo de un hdu**"
   ]
  },
  {
   "cell_type": "code",
   "execution_count": 3,
   "metadata": {},
   "outputs": [
    {
     "name": "stdout",
     "output_type": "stream",
     "text": [
      "dimensiones (44, 44)\n",
      "Header (44, 44)\n"
     ]
    }
   ],
   "source": [
    "data_H = fits.open('/home/vanessa/Escritorio/Doctorado/VVVx/galaxies_d115/d115_0001.fits')[0]\n",
    "print('dimensiones', data_H.data.shape)\n",
    "print('Header', data_H.header)"
   ]
  },
  {
   "cell_type": "markdown",
   "metadata": {},
   "source": [
    "## DataFrame GXs"
   ]
  },
  {
   "cell_type": "code",
   "execution_count": 4,
   "metadata": {},
   "outputs": [],
   "source": [
    "GX = os.listdir('/home/vanessa/Escritorio/Doctorado/VVVx/galaxies_d115/')\n",
    "\n",
    "all_gx = []\n",
    "\n",
    "for archive in GX:\n",
    "    \n",
    "    data_H = fits.open('/home/vanessa/Escritorio/Doctorado/VVVx/galaxies_d115/'+str(archive))[0].data\n",
    "    data_J = fits.open('/home/vanessa/Escritorio/Doctorado/VVVx/galaxies_d115/'+str(archive))[1].data\n",
    "    data_Ks = fits.open('/home/vanessa/Escritorio/Doctorado/VVVx/galaxies_d115/'+str(archive))[2].data\n",
    "    \n",
    "    # Cada Ima como matrix por si hace falta\n",
    "    M_gx =  np.zeros((44,44,3))\n",
    "    M_gx[:,:,0] =  data_H\n",
    "    M_gx[:,:,1] =  data_J\n",
    "    M_gx[:,:,2] =  data_Ks\n",
    "    \n",
    "\n",
    "    # Cada Ima como un vector de dim 5808\n",
    "    gx = np.reshape(M_gx,[5808])\n",
    "    all_gx.append(gx)\n",
    "    \n",
    "    # Dataset de gx como DataFrame  \n",
    "    df_gx = pd.DataFrame(all_gx)\n",
    "    \n",
    "target = np.zeros(df_gx.shape[0])\n",
    "df_gx['Target'] = target    "
   ]
  },
  {
   "cell_type": "markdown",
   "metadata": {},
   "source": [
    "## DataFrame Other objects"
   ]
  },
  {
   "cell_type": "code",
   "execution_count": 5,
   "metadata": {},
   "outputs": [],
   "source": [
    "other_obj = os.listdir('/home/vanessa/Escritorio/Doctorado/VVVx/other_objects_d115')\n",
    "\n",
    "all_oo = []\n",
    "\n",
    "for archive in GX:\n",
    "    \n",
    "    data_H = fits.open('/home/vanessa/Escritorio/Doctorado/VVVx/galaxies_d115/'+str(archive))[0].data\n",
    "    data_J = fits.open('/home/vanessa/Escritorio/Doctorado/VVVx/galaxies_d115/'+str(archive))[1].data\n",
    "    data_Ks = fits.open('/home/vanessa/Escritorio/Doctorado/VVVx/galaxies_d115/'+str(archive))[2].data\n",
    "    \n",
    "    # Cada Ima como matrix por si hace falta\n",
    "    M_oo =  np.zeros((44,44,3))\n",
    "    M_oo[:,:,0] =  data_H\n",
    "    M_oo[:,:,1] =  data_J\n",
    "    M_oo[:,:,2] =  data_Ks\n",
    "    \n",
    "\n",
    "    # Cada Ima como un vector de dim 5808\n",
    "    oo = np.reshape(M_oo,[5808])\n",
    "    all_oo.append(oo)\n",
    "    \n",
    "    # Dataset de gx como DataFrame  \n",
    "    df_oo = pd.DataFrame(all_oo)\n",
    "    \n",
    "target = np.ones(df_oo.shape[0])\n",
    "df_oo['Target'] = target    "
   ]
  },
  {
   "cell_type": "code",
   "execution_count": 10,
   "metadata": {},
   "outputs": [
    {
     "data": {
      "text/html": [
       "<div>\n",
       "<style scoped>\n",
       "    .dataframe tbody tr th:only-of-type {\n",
       "        vertical-align: middle;\n",
       "    }\n",
       "\n",
       "    .dataframe tbody tr th {\n",
       "        vertical-align: top;\n",
       "    }\n",
       "\n",
       "    .dataframe thead th {\n",
       "        text-align: right;\n",
       "    }\n",
       "</style>\n",
       "<table border=\"1\" class=\"dataframe\">\n",
       "  <thead>\n",
       "    <tr style=\"text-align: right;\">\n",
       "      <th></th>\n",
       "      <th>0</th>\n",
       "      <th>1</th>\n",
       "      <th>2</th>\n",
       "      <th>3</th>\n",
       "      <th>4</th>\n",
       "      <th>5</th>\n",
       "      <th>6</th>\n",
       "      <th>7</th>\n",
       "      <th>8</th>\n",
       "      <th>9</th>\n",
       "      <th>...</th>\n",
       "      <th>5799</th>\n",
       "      <th>5800</th>\n",
       "      <th>5801</th>\n",
       "      <th>5802</th>\n",
       "      <th>5803</th>\n",
       "      <th>5804</th>\n",
       "      <th>5805</th>\n",
       "      <th>5806</th>\n",
       "      <th>5807</th>\n",
       "      <th>Target</th>\n",
       "    </tr>\n",
       "  </thead>\n",
       "  <tbody>\n",
       "    <tr>\n",
       "      <th>0</th>\n",
       "      <td>1859.75</td>\n",
       "      <td>13150.25</td>\n",
       "      <td>12020.75</td>\n",
       "      <td>1780.25</td>\n",
       "      <td>13096.75</td>\n",
       "      <td>12031.75</td>\n",
       "      <td>1763.5</td>\n",
       "      <td>13061.25</td>\n",
       "      <td>12051.75</td>\n",
       "      <td>1746.25</td>\n",
       "      <td>...</td>\n",
       "      <td>1685.00</td>\n",
       "      <td>12979.75</td>\n",
       "      <td>12003.25</td>\n",
       "      <td>1670.75</td>\n",
       "      <td>12995.5</td>\n",
       "      <td>12008.75</td>\n",
       "      <td>1668.5</td>\n",
       "      <td>12979.25</td>\n",
       "      <td>11945.00</td>\n",
       "      <td>0.0</td>\n",
       "    </tr>\n",
       "    <tr>\n",
       "      <th>1</th>\n",
       "      <td>1668.75</td>\n",
       "      <td>12991.25</td>\n",
       "      <td>11976.00</td>\n",
       "      <td>1661.75</td>\n",
       "      <td>13003.25</td>\n",
       "      <td>11975.75</td>\n",
       "      <td>1659.5</td>\n",
       "      <td>12995.00</td>\n",
       "      <td>11992.75</td>\n",
       "      <td>1668.75</td>\n",
       "      <td>...</td>\n",
       "      <td>1669.75</td>\n",
       "      <td>12979.00</td>\n",
       "      <td>11983.75</td>\n",
       "      <td>1684.00</td>\n",
       "      <td>13017.0</td>\n",
       "      <td>11990.00</td>\n",
       "      <td>1695.0</td>\n",
       "      <td>13010.25</td>\n",
       "      <td>11984.25</td>\n",
       "      <td>0.0</td>\n",
       "    </tr>\n",
       "  </tbody>\n",
       "</table>\n",
       "<p>2 rows × 5809 columns</p>\n",
       "</div>"
      ],
      "text/plain": [
       "         0         1         2        3         4         5       6         7  \\\n",
       "0  1859.75  13150.25  12020.75  1780.25  13096.75  12031.75  1763.5  13061.25   \n",
       "1  1668.75  12991.25  11976.00  1661.75  13003.25  11975.75  1659.5  12995.00   \n",
       "\n",
       "          8        9  ...     5799      5800      5801     5802     5803  \\\n",
       "0  12051.75  1746.25  ...  1685.00  12979.75  12003.25  1670.75  12995.5   \n",
       "1  11992.75  1668.75  ...  1669.75  12979.00  11983.75  1684.00  13017.0   \n",
       "\n",
       "       5804    5805      5806      5807  Target  \n",
       "0  12008.75  1668.5  12979.25  11945.00     0.0  \n",
       "1  11990.00  1695.0  13010.25  11984.25     0.0  \n",
       "\n",
       "[2 rows x 5809 columns]"
      ]
     },
     "metadata": {},
     "output_type": "display_data"
    },
    {
     "data": {
      "text/html": [
       "<div>\n",
       "<style scoped>\n",
       "    .dataframe tbody tr th:only-of-type {\n",
       "        vertical-align: middle;\n",
       "    }\n",
       "\n",
       "    .dataframe tbody tr th {\n",
       "        vertical-align: top;\n",
       "    }\n",
       "\n",
       "    .dataframe thead th {\n",
       "        text-align: right;\n",
       "    }\n",
       "</style>\n",
       "<table border=\"1\" class=\"dataframe\">\n",
       "  <thead>\n",
       "    <tr style=\"text-align: right;\">\n",
       "      <th></th>\n",
       "      <th>0</th>\n",
       "      <th>1</th>\n",
       "      <th>2</th>\n",
       "      <th>3</th>\n",
       "      <th>4</th>\n",
       "      <th>5</th>\n",
       "      <th>6</th>\n",
       "      <th>7</th>\n",
       "      <th>8</th>\n",
       "      <th>9</th>\n",
       "      <th>...</th>\n",
       "      <th>5799</th>\n",
       "      <th>5800</th>\n",
       "      <th>5801</th>\n",
       "      <th>5802</th>\n",
       "      <th>5803</th>\n",
       "      <th>5804</th>\n",
       "      <th>5805</th>\n",
       "      <th>5806</th>\n",
       "      <th>5807</th>\n",
       "      <th>Target</th>\n",
       "    </tr>\n",
       "  </thead>\n",
       "  <tbody>\n",
       "    <tr>\n",
       "      <th>143</th>\n",
       "      <td>1720.75</td>\n",
       "      <td>13118.75</td>\n",
       "      <td>12054.75</td>\n",
       "      <td>1713.75</td>\n",
       "      <td>13104.00</td>\n",
       "      <td>12063.00</td>\n",
       "      <td>1708.75</td>\n",
       "      <td>13071.50</td>\n",
       "      <td>12064.5</td>\n",
       "      <td>1704.50</td>\n",
       "      <td>...</td>\n",
       "      <td>1685.25</td>\n",
       "      <td>13049.0</td>\n",
       "      <td>12020.75</td>\n",
       "      <td>1703.50</td>\n",
       "      <td>13040.25</td>\n",
       "      <td>12030.25</td>\n",
       "      <td>1712.75</td>\n",
       "      <td>13060.25</td>\n",
       "      <td>12044.75</td>\n",
       "      <td>1.0</td>\n",
       "    </tr>\n",
       "    <tr>\n",
       "      <th>144</th>\n",
       "      <td>1673.50</td>\n",
       "      <td>13034.00</td>\n",
       "      <td>12011.50</td>\n",
       "      <td>1677.50</td>\n",
       "      <td>13040.25</td>\n",
       "      <td>12008.25</td>\n",
       "      <td>1680.50</td>\n",
       "      <td>13029.25</td>\n",
       "      <td>12000.5</td>\n",
       "      <td>1681.75</td>\n",
       "      <td>...</td>\n",
       "      <td>1924.50</td>\n",
       "      <td>13819.0</td>\n",
       "      <td>12438.75</td>\n",
       "      <td>1769.25</td>\n",
       "      <td>13281.25</td>\n",
       "      <td>12161.25</td>\n",
       "      <td>1705.50</td>\n",
       "      <td>13073.75</td>\n",
       "      <td>12055.25</td>\n",
       "      <td>1.0</td>\n",
       "    </tr>\n",
       "  </tbody>\n",
       "</table>\n",
       "<p>2 rows × 5809 columns</p>\n",
       "</div>"
      ],
      "text/plain": [
       "           0         1         2        3         4         5        6  \\\n",
       "143  1720.75  13118.75  12054.75  1713.75  13104.00  12063.00  1708.75   \n",
       "144  1673.50  13034.00  12011.50  1677.50  13040.25  12008.25  1680.50   \n",
       "\n",
       "            7        8        9  ...     5799     5800      5801     5802  \\\n",
       "143  13071.50  12064.5  1704.50  ...  1685.25  13049.0  12020.75  1703.50   \n",
       "144  13029.25  12000.5  1681.75  ...  1924.50  13819.0  12438.75  1769.25   \n",
       "\n",
       "         5803      5804     5805      5806      5807  Target  \n",
       "143  13040.25  12030.25  1712.75  13060.25  12044.75     1.0  \n",
       "144  13281.25  12161.25  1705.50  13073.75  12055.25     1.0  \n",
       "\n",
       "[2 rows x 5809 columns]"
      ]
     },
     "metadata": {},
     "output_type": "display_data"
    },
    {
     "data": {
      "text/plain": [
       "(290, 5809)"
      ]
     },
     "execution_count": 10,
     "metadata": {},
     "output_type": "execute_result"
    }
   ],
   "source": [
    "df_row = pd.concat([df_gx, df_oo])\n",
    "display(df_row.head(2))\n",
    "display(df_row.tail(2))\n",
    "df_row.shape"
   ]
  },
  {
   "cell_type": "code",
   "execution_count": 12,
   "metadata": {},
   "outputs": [],
   "source": [
    "df_row.to_csv('/home/vanessa/Escritorio/Doctorado/VVVx/d115_sample.csv')"
   ]
  },
  {
   "cell_type": "code",
   "execution_count": null,
   "metadata": {},
   "outputs": [],
   "source": []
  }
 ],
 "metadata": {
  "kernelspec": {
   "display_name": "Python 3",
   "language": "python",
   "name": "python3"
  },
  "language_info": {
   "codemirror_mode": {
    "name": "ipython",
    "version": 3
   },
   "file_extension": ".py",
   "mimetype": "text/x-python",
   "name": "python",
   "nbconvert_exporter": "python",
   "pygments_lexer": "ipython3",
   "version": "3.8.3"
  }
 },
 "nbformat": 4,
 "nbformat_minor": 4
}
