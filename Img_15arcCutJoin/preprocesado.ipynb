{
 "cells": [
  {
   "cell_type": "markdown",
   "metadata": {},
   "source": [
    "# Procesado"
   ]
  },
  {
   "cell_type": "markdown",
   "metadata": {},
   "source": [
    "- Trabajamos con imágenes de 15 arc"
   ]
  },
  {
   "cell_type": "markdown",
   "metadata": {},
   "source": [
    "1) Previo a la división de imagenes uso el siguiente comando para descomprimir\n",
    "\n",
    "        $ gzip -d *.gz"
   ]
  },
  {
   "cell_type": "markdown",
   "metadata": {},
   "source": [
    "2) Carga de líbrerias necesarias para genrar imágenes (Dpx, Dpx, 3)"
   ]
  },
  {
   "cell_type": "code",
   "execution_count": 173,
   "metadata": {},
   "outputs": [],
   "source": [
    "from astropy.io import fits\n",
    "import os \n",
    "import shutil\n",
    "import numpy as np\n",
    "from astropy.nddata import Cutout2D # No incluyo WCS\n",
    "from astropy.wcs import WCS #No hace falta para este problema\n",
    "import matplotlib.pyplot as plt\n",
    "import warnings\n",
    "from astropy.utils.exceptions import AstropyWarning"
   ]
  },
  {
   "cell_type": "markdown",
   "metadata": {},
   "source": [
    "3) Creo una nueva carpeta con las imágenes combinadas en los filtros H, J y K_s"
   ]
  },
  {
   "cell_type": "code",
   "execution_count": 174,
   "metadata": {},
   "outputs": [],
   "source": [
    "os.makedirs(\"/home/vanessa/Escritorio/Doctorado/VVVx/15arcC\")\n",
    "#007_114547.4-594353"
   ]
  },
  {
   "cell_type": "markdown",
   "metadata": {},
   "source": [
    "4) Recorto todas las imágenes con el mismo tamaño (45,45)\n",
    "\n",
    "- Defino el centro y ancho de la imágen \n",
    "\n",
    "5) Genero una lista de los archivos .fist y hago algo de parsing\n",
    "\n",
    "- Hago una lista del nombre de las fuentes \n",
    "- Luego encuentro los filtros para una dada fuente\n",
    "- Recolecto los datos de es fuente y creo un nuevo hdu con los datos recortados\n",
    "- Genero un nuevo .fits con dim de hduls = 3"
   ]
  },
  {
   "cell_type": "code",
   "execution_count": 175,
   "metadata": {},
   "outputs": [
    {
     "name": "stdout",
     "output_type": "stream",
     "text": [
      "147\n"
     ]
    }
   ],
   "source": [
    "warnings.simplefilter('ignore', category=AstropyWarning)\n",
    "archive_fits = os.listdir('/home/vanessa/Escritorio/Doctorado/VVVx/15arc/fits_galaxies_15arcsec/')\n",
    "\n",
    "fuentes = []\n",
    "\n",
    "position=(21,21)\n",
    "size = (45, 45)\n",
    "\n",
    "for archive in archive_fits:\n",
    "    step_0 = archive.split('_')\n",
    "    step_1 = step_0[0]+'_'+step_0[1]\n",
    "    fuentes.append(step_1)\n",
    "    fuentes_u = list(set(fuentes))\n",
    "\n",
    "for archive in fuentes_u:\n",
    "    \n",
    "    hdu_H = fits.open('/home/vanessa/Escritorio/Doctorado/VVVx/15arc/fits_galaxies_15arcsec/'+ str(archive)+'_H.fits')[1]\n",
    "    wcs_H = WCS(hdu_H.header)  \n",
    "    # Make the cutout, including the WCS\n",
    "    cutout_H = Cutout2D(hdu_H.data, position=position, size=size, wcs=wcs_H)\n",
    "    # Put the cutout image in the FITS HDU\n",
    "    hdu_H.data = cutout_H.data\n",
    "    # Update the FITS header with the cutout WCS\n",
    "    hdu_H.header.update(cutout_H.wcs.to_header())\n",
    "    primary_hdu_H = fits.PrimaryHDU(data_H)  \n",
    "    \n",
    "    hdu_J = fits.open('/home/vanessa/Escritorio/Doctorado/VVVx/15arc/fits_galaxies_15arcsec/'+ str(archive)+'_J.fits')[1]\n",
    "    wcs_J = WCS(hdu_J.header)  \n",
    "    cutout_J = Cutout2D(hdu_J.data, position=position, size=size, wcs=wcs_J)\n",
    "    hdu_J.data = cutout_J.data\n",
    "    hdu_J.header.update(cutout_J.wcs.to_header())\n",
    "    \n",
    "    hdu_Ks = fits.open('/home/vanessa/Escritorio/Doctorado/VVVx/15arc/fits_galaxies_15arcsec/'+ str(archive)+'_Ks.fits')[1]\n",
    "    wcs_Ks = WCS(hdu_Ks.header)  \n",
    "    cutout_Ks = Cutout2D(hdu_Ks.data, position=position, size=size, wcs=wcs_Ks)\n",
    "    hdu_Ks.data = cutout_Ks.data\n",
    "    hdu_Ks.header.update(cutout_Ks.wcs.to_header())\n",
    "    \n",
    "    hdul = fits.HDUList([primary_hdu_H, hdu_J, hdu_Ks])\n",
    "    hdul.writeto('/home/vanessa/Escritorio/Doctorado/VVVx/15arcC/'+ str(archive)+'.fits')\n",
    "    \n",
    "news_fits = os.listdir('/home/vanessa/Escritorio/Doctorado/VVVx/15arcC/')\n",
    "print(len(news_fits))"
   ]
  },
  {
   "cell_type": "markdown",
   "metadata": {},
   "source": [
    "# Prueba con la imagen 136_115609.3-595433"
   ]
  },
  {
   "cell_type": "code",
   "execution_count": 154,
   "metadata": {},
   "outputs": [],
   "source": [
    "position=(21,21)\n",
    "size = (45, 45)"
   ]
  },
  {
   "cell_type": "code",
   "execution_count": 158,
   "metadata": {},
   "outputs": [
    {
     "name": "stdout",
     "output_type": "stream",
     "text": [
      "(45, 46)\n",
      "(44, 44)\n",
      "(46, 46)\n",
      "(44, 44)\n",
      "(46, 46)\n",
      "(44, 44)\n"
     ]
    }
   ],
   "source": [
    "hdu_H = fits.open('/home/vanessa/Escritorio/Doctorado/VVVx/15arc/fits_galaxies_15arcsec/'+'136_115609.3-595433'+'_H.fits')[1]\n",
    "print(hdu_H.data.shape)\n",
    "cutout_H = Cutout2D(hdu_H.data, position=position, size=size)\n",
    "data_H = cutout_H.data\n",
    "print(data_H.shape)\n",
    "primary_hdu_H = fits.PrimaryHDU(data_H)   \n",
    "\n",
    "hdu_J = fits.open('/home/vanessa/Escritorio/Doctorado/VVVx/15arc/fits_galaxies_15arcsec/'+'136_115609.3-595433'+'_J.fits')[1]\n",
    "print(hdu_J.data.shape)\n",
    "cutout_J = Cutout2D(hdu_J.data, position=position, size=size)\n",
    "hdu_J.data = cutout_J.data\n",
    "print(hdu_J.data.shape)\n",
    "    \n",
    "hdu_Ks = fits.open('/home/vanessa/Escritorio/Doctorado/VVVx/15arc/fits_galaxies_15arcsec/'+'136_115609.3-595433'+'_Ks.fits')[1] \n",
    "print(hdu_Ks.data.shape)\n",
    "cutout_Ks = Cutout2D(hdu_Ks.data, position=position, size=size)\n",
    "hdu_Ks.data = cutout_Ks.data\n",
    "print(hdu_Ks.data.shape)\n",
    "    \n",
    "hdul = fits.HDUList([primary_hdu_H, hdu_J, hdu_Ks])\n",
    "hdul.writeto('/home/vanessa/Escritorio/Doctorado/VVVx/15arcC/'+'136_115609.3-595433'+'.fits')"
   ]
  },
  {
   "cell_type": "code",
   "execution_count": 159,
   "metadata": {},
   "outputs": [],
   "source": [
    "hdul = fits.open('/home/vanessa/Escritorio/Doctorado/VVVx/15arcC/'+'136_115609.3-595433'+'.fits')"
   ]
  },
  {
   "cell_type": "code",
   "execution_count": 168,
   "metadata": {},
   "outputs": [
    {
     "name": "stdout",
     "output_type": "stream",
     "text": [
      "XTENSION= 'IMAGE   '           / IMAGE extension                                BITPIX  =                  -64 / number of bits per data pixel                  NAXIS   =                    2 / number of data axes                            NAXIS1  =                   44 / length of data axis 1                          NAXIS2  =                   44 / length of data axis 2                          PCOUNT  =                    0 / required keyword; must = 0                     GCOUNT  =                    1 / required keyword; must = 1                     ORIGIN  = 'ESO     '                    / European Southern Observatory         DATE    = '2015-01-28T06:56:29' / file creation date (YYYY-MM-DDThh:mm:ss UT)   TELESCOP= 'VISTA   '                    / ESO Telescope Name                    INSTRUME= 'VIRCAM  '                    / Instrument used.                      OBJECT  = 'd115    '           / Original target.                               RA      =           177.708854          / 11:50:50.1 RA (J2000) pointing (deg)  DEC     =            -60.46482          / -60:27:53.3 DEC (J2000) pointing (deg)EQUINOX =                2000.          / Standard FK5 (years)                  RADECSYS= 'FK5     '                    / Coordinate reference frame            EXPTIME =                  10. / Corrected to ndit = 1                          MJD-OBS =       55269.16209386 / Start MJD of observation                       DATE-OBS= '2010-03-14T03:58:36.4741'    / Observing date                        UTC     =            14315.000          / 03:58:35.000 UTC at start (sec)       LST     =            38620.865          / 10:43:40.865 LST at start (sec)       PI-COI  = 'UNKNOWN '           / PI-COI name.                                   OBSERVER= 'UNKNOWN '           / Name of observer.                              ORIGFILE= 'VIRCAM_IMG_OBS073_0267.fits' / Original File Name                    COMMENT VISTA IR Camera OS $Revision: 1.13 $                                    HIERARCH ESO DET DIT         =   10.0000000 / Integration Time                  HIERARCH ESO DET NCORRS NAME = 'Double  '   / Read-Out Mode Name                HIERARCH ESO DET NDIT        =            2 / # of Sub-Integrations             HIERARCH ESO DPR CATG        = 'SCIENCE '   / Observation category              HIERARCH ESO DPR TECH        = 'IMAGE,JITTER' / Observation technique           HIERARCH ESO DPR TYPE        = 'OBJECT  '   / Observation type                  HIERARCH ESO INS DATE        = '2008-02-15' / Instrument release date (yyyy-mm-dHIERARCH ESO INS FILT1 DATE  = '2010-03-13T21:15:57' / Filter index time        HIERARCH ESO INS FILT1 ENC   =        79616 / Filter wheel abs position [Enc]   HIERARCH ESO INS FILT1 ERROR =        501.0 / Filter home switch offset [Enc]   HIERARCH ESO INS FILT1 FOCUS =        0.000 / Filter focus offset [mm]          HIERARCH ESO INS FILT1 ID    = 'SLOT4   '   / Filter slot name                  HIERARCH ESO INS FILT1 NAME  = 'Ks      '   / Filter name                       HIERARCH ESO INS FILT1 NO    =           15 / Filter wheel position index       HIERARCH ESO INS FILT1 POSEDGE=       79531 / In-position switch edge [Enc]     HIERARCH ESO INS FILT1 TRAYID= 'ESO-Ks-0002' / Filter tray ID                   HIERARCH ESO INS FILT1 WLEN  =     2150.000 / Filter effective wavelength [nm]  HIERARCH ESO INS HB1 SWSIM   =            F / If T, heart beat device simulated HIERARCH ESO INS ID          = 'VIRCAM/1.57' / Instrument ID                    HIERARCH ESO INS LSC1 OK     =            T / If T, controller is operational   HIERARCH ESO INS LSC1 SWSIM  =            F / If T, lakeshore ctrllr simulated  HIERARCH ESO INS LSM1 OK     =            T / If T, controller is operational   HIERARCH ESO INS LSM1 SWSIM  =            F / If T, lakeshore monitor simulated HIERARCH ESO INS LSM2 OK     =            F / If T, controller is operational   HIERARCH ESO INS LSM2 SWSIM  =            F / If T, lakeshore monitor simulated HIERARCH ESO INS LSM3 OK     =            T / If T, controller is operational   HIERARCH ESO INS LSM3 SWSIM  =            F / If T, lakeshore monitor simulated HIERARCH ESO INS PRES1 ID    = 'Vac1    '   / Pressure sensor type              HIERARCH ESO INS PRES1 NAME  = 'Vacuum gauge 1' / Pressure sensor name          HIERARCH ESO INS PRES1 UNIT  = 'mbar    '   / Pressure unit                     HIERARCH ESO INS PRES1 VAL   =        0.000 / Pressure [mbar]                   HIERARCH ESO INS SW1 ID      = 'INPOS   '   / Switch ID                         HIERARCH ESO INS SW1 NAME    = 'Filter In-position Switch' / Switch name        HIERARCH ESO INS SW1 STATUS  = 'ACTIVE  '   / Switch status                     HIERARCH ESO INS SW2 ID      = 'REFSW   '   / Switch ID                         HIERARCH ESO INS SW2 NAME    = 'Filter Reference Select' / Switch name          HIERARCH ESO INS SW2 STATUS  = 'PRIMARY '   / Switch status                     HIERARCH ESO INS SW3 ID      = 'HOME    '   / Switch ID                         HIERARCH ESO INS SW3 NAME    = 'Filter Reference Switch' / Switch name          HIERARCH ESO INS SW3 STATUS  = 'INACTIVE'   / Switch status                     HIERARCH ESO INS TEMP1 ID    = 'Amb     '   / Temperature sensor type           HIERARCH ESO INS TEMP1 NAME  = 'Ambient temperature' / Temperature sensor name  HIERARCH ESO INS TEMP1 UNIT  = 'K       '   / Temperature unit                  HIERARCH ESO INS TEMP1 VAL   =      287.660 / Temperature [K]                   HIERARCH ESO INS TEMP10 ID   = 'CC1_2   '   / Temperature sensor type           HIERARCH ESO INS TEMP10 NAME = 'Cryo cooler 1 2nd' / Temperature sensor name    HIERARCH ESO INS TEMP10 UNIT = 'K       '   / Temperature unit                  HIERARCH ESO INS TEMP10 VAL  =     9999.000 / Temperature [K]                   HIERARCH ESO INS TEMP12 ID   = 'CC2_2   '   / Temperature sensor type           HIERARCH ESO INS TEMP12 NAME = 'Cryo cooler 2 2nd' / Temperature sensor name    HIERARCH ESO INS TEMP12 UNIT = 'K       '   / Temperature unit                  HIERARCH ESO INS TEMP12 VAL  =     9999.000 / Temperature [K]                   HIERARCH ESO INS TEMP14 ID   = 'CC3_2   '   / Temperature sensor type           HIERARCH ESO INS TEMP14 NAME = 'Cryo cooler 3 2nd' / Temperature sensor name    HIERARCH ESO INS TEMP14 UNIT = 'K       '   / Temperature unit                  HIERARCH ESO INS TEMP14 VAL  =     9999.000 / Temperature [K]                   HIERARCH ESO INS TEMP15 ID   = 'WFS1    '   / Temperature sensor type           HIERARCH ESO INS TEMP15 NAME = 'WFS CCD assembly PY' / Temperature sensor name  HIERARCH ESO INS TEMP15 UNIT = 'K       '   / Temperature unit                  HIERARCH ESO INS TEMP15 VAL  =     9999.000 / Temperature [K]                   HIERARCH ESO INS TEMP16 ID   = 'WFS2    '   / Temperature sensor type           HIERARCH ESO INS TEMP16 NAME = 'WFS CCD assembly NY' / Temperature sensor name  HIERARCH ESO INS TEMP16 UNIT = 'K       '   / Temperature unit                  HIERARCH ESO INS TEMP16 VAL  =     9999.000 / Temperature [K]                   HIERARCH ESO INS TEMP17 ID   = 'Dt1AB   '   / Temperature sensor type           HIERARCH ESO INS TEMP17 NAME = 'Science detector 1AB' / Temperature sensor name HIERARCH ESO INS TEMP17 UNIT = 'K       '   / Temperature unit                  HIERARCH ESO INS TEMP17 VAL  =       70.910 / Temperature [K]                   HIERARCH ESO INS TEMP18 ID   = 'Dt1CD   '   / Temperature sensor type           HIERARCH ESO INS TEMP18 NAME = 'Science detector 1CD' / Temperature sensor name HIERARCH ESO INS TEMP18 UNIT = 'K       '   / Temperature unit                  HIERARCH ESO INS TEMP18 VAL  =       70.410 / Temperature [K]                   HIERARCH ESO INS TEMP19 ID   = 'Dt2BA   '   / Temperature sensor type           HIERARCH ESO INS TEMP19 NAME = 'Science detector 2BA' / Temperature sensor name HIERARCH ESO INS TEMP19 UNIT = 'K       '   / Temperature unit                  HIERARCH ESO INS TEMP19 VAL  =       71.804 / Temperature [K]                   HIERARCH ESO INS TEMP2 ID    = 'Win     '   / Temperature sensor type           HIERARCH ESO INS TEMP2 NAME  = 'Cryostat window cell' / Temperature sensor name HIERARCH ESO INS TEMP2 UNIT  = 'K       '   / Temperature unit                  HIERARCH ESO INS TEMP2 VAL   =      287.960 / Temperature [K]                   HIERARCH ESO INS TEMP20 ID   = 'Dt2DC   '   / Temperature sensor type           HIERARCH ESO INS TEMP20 NAME = 'Science detector 2DC' / Temperature sensor name HIERARCH ESO INS TEMP20 UNIT = 'K       '   / Temperature unit                  HIERARCH ESO INS TEMP20 VAL  =       71.452 / Temperature [K]                   HIERARCH ESO INS TEMP21 ID   = 'Dt3AB   '   / Temperature sensor type           HIERARCH ESO INS TEMP21 NAME = 'Science detector 3AB' / Temperature sensor name HIERARCH ESO INS TEMP21 UNIT = 'K       '   / Temperature unit                  HIERARCH ESO INS TEMP21 VAL  =       71.868 / Temperature [K]                   HIERARCH ESO INS TEMP22 ID   = 'Dt3CD   '   / Temperature sensor type           HIERARCH ESO INS TEMP22 NAME = 'Science detector 3CD' / Temperature sensor name HIERARCH ESO INS TEMP22 UNIT = 'K       '   / Temperature unit                  HIERARCH ESO INS TEMP22 VAL  =       72.602 / Temperature [K]                   HIERARCH ESO INS TEMP23 ID   = 'Dt4BA   '   / Temperature sensor type           HIERARCH ESO INS TEMP23 NAME = 'Science detector 4BA' / Temperature sensor name HIERARCH ESO INS TEMP23 UNIT = 'K       '   / Temperature unit                  HIERARCH ESO INS TEMP23 VAL  =       71.922 / Temperature [K]                   HIERARCH ESO INS TEMP24 ID   = 'Dt4DC   '   / Temperature sensor type           HIERARCH ESO INS TEMP24 NAME = 'Science detector 4DC' / Temperature sensor name HIERARCH ESO INS TEMP24 UNIT = 'K       '   / Temperature unit                  HIERARCH ESO INS TEMP24 VAL  =       71.709 / Temperature [K]                   HIERARCH ESO INS TEMP25 ID   = 'FPA     '   / Temperature sensor type           HIERARCH ESO INS TEMP25 NAME = 'FPA thermal plate' / Temperature sensor name    HIERARCH ESO INS TEMP25 UNIT = 'K       '   / Temperature unit                  HIERARCH ESO INS TEMP25 VAL  =       67.241 / Temperature [K]                   HIERARCH ESO INS TEMP26 ID   = 'WFSpl   '   / Temperature sensor type           HIERARCH ESO INS TEMP26 NAME = 'WFS plate'  / Temperature sensor name           HIERARCH ESO INS TEMP26 UNIT = 'K       '   / Temperature unit                  HIERARCH ESO INS TEMP26 VAL  =       98.608 / Temperature [K]                   HIERARCH ESO INS TEMP3 ID    = 'Tube    '   / Temperature sensor type           HIERARCH ESO INS TEMP3 NAME  = 'Cryostat tube' / Temperature sensor name        HIERARCH ESO INS TEMP3 UNIT  = 'K       '   / Temperature unit                  HIERARCH ESO INS TEMP3 VAL   =      287.090 / Temperature [K]                   HIERARCH ESO INS TEMP4 ID    = 'OBtop   '   / Temperature sensor type           HIERARCH ESO INS TEMP4 NAME  = 'Optical Bench Top' / Temperature sensor name    HIERARCH ESO INS TEMP4 UNIT  = 'K       '   / Temperature unit                  HIERARCH ESO INS TEMP4 VAL   =       96.451 / Temperature [K]                   HIERARCH ESO INS TEMP5 ID    = 'Baff    '   / Temperature sensor type           HIERARCH ESO INS TEMP5 NAME  = 'Baffle  '   / Temperature sensor name           HIERARCH ESO INS TEMP5 UNIT  = 'K       '   / Temperature unit                  HIERARCH ESO INS TEMP5 VAL   =      150.770 / Temperature [K]                   HIERARCH ESO INS TEMP6 ID    = 'Lens    '   / Temperature sensor type           HIERARCH ESO INS TEMP6 NAME  = 'Lens barrel' / Temperature sensor name          HIERARCH ESO INS TEMP6 UNIT  = 'K       '   / Temperature unit                  HIERARCH ESO INS TEMP6 VAL   =       92.800 / Temperature [K]                   HIERARCH ESO INS TEMP7 ID    = 'FwShd   '   / Temperature sensor type           HIERARCH ESO INS TEMP7 NAME  = 'Filter wheel shield' / Temperature sensor name  HIERARCH ESO INS TEMP7 UNIT  = 'K       '   / Temperature unit                  HIERARCH ESO INS TEMP7 VAL   =      111.940 / Temperature [K]                   HIERARCH ESO INS TEMP8 ID    = 'FwHub   '   / Temperature sensor type           HIERARCH ESO INS TEMP8 NAME  = 'Filter wheel hub' / Temperature sensor name     HIERARCH ESO INS TEMP8 UNIT  = 'K       '   / Temperature unit                  HIERARCH ESO INS TEMP8 VAL   =       99.079 / Temperature [K]                   HIERARCH ESO INS THERMAL AMB MEAN=   287.66 / Ambient temperature [K]           HIERARCH ESO INS THERMAL CLD MEAN=     0.00 / Cold head temperature [K]         HIERARCH ESO INS THERMAL DET MEAN=    71.59 / Detector mean temperature [K]     HIERARCH ESO INS THERMAL DET TARGET=  72.00 / Detector target temperature [K]   HIERARCH ESO INS THERMAL ENABLE=          T / If T, thermal control enabled     HIERARCH ESO INS THERMAL FPA MEAN=    67.24 / Focal plane array temperature [K] HIERARCH ESO INS THERMAL TUB MEAN=   287.09 / Tube temperature [K]              HIERARCH ESO INS THERMAL WIN MEAN=   287.96 / Window temperature [K]            HIERARCH ESO INS VAC1 OK     =            T / If T, controller is operational   HIERARCH ESO INS VAC1 SWSIM  =            F / If T, vacuum sensor simulated     HIERARCH ESO OBS AIRM        =          1.7 / Requested maximum airmass         HIERARCH ESO OBS AMBI FWHM   =          0.8 / Requested maximum seeing          HIERARCH ESO OBS AMBI TRANS  = '2CLR    '   / Requested sky transparency        HIERARCH ESO OBS CONTAINER ID=       478777 / Scheduling container ID           HIERARCH ESO OBS CONTAINER TYPE= 'C       ' / Scheduling container type         HIERARCH ESO OBS DID         = 'ESO-VLT-DIC.OBS-1.11' / OBS Dictionary          HIERARCH ESO OBS EXECTIME    =         1373 / Expected execution time           HIERARCH ESO OBS GRP         = '0       '   / linked blocks                     HIERARCH ESO OBS ID          =       478784 / Observation block ID              HIERARCH ESO OBS MOON DIST   =           20 / Requested minimum angular distanceHIERARCH ESO OBS MOON FLI    =          1.0 / Requested maximum fractional lunarHIERARCH ESO OBS NAME        = 'd115j   '   / OB name                           HIERARCH ESO OBS OBSERVER    = 'UNKNOWN '   / Observer Name                     HIERARCH ESO OBS PI-COI ID   =          509 / ESO internal PI-COI ID            HIERARCH ESO OBS PI-COI NAME = 'UNKNOWN '   / PI-COI name                       HIERARCH ESO OBS PROG ID     = '179.B-2002(B)' / ESO program identification     HIERARCH ESO OBS START       = '2010-03-14T03:42:55' / OB start time            HIERARCH ESO OBS TARG NAME   = 'd115    '   / OB target name                    HIERARCH ESO OBS TPLNO       =            3 / Template number within OB         HIERARCH ESO OCS DET1 IMGNAME= 'VIRCAM_IMG_OBS' / Data File Name.               HIERARCH ESO OCS EXPNO       =            1 / Exposure number of dwell          HIERARCH ESO OCS NEXP        =            1 / Number of exposures per dwell     HIERARCH ESO OCS RECIPE      = 'DEFAULT '   / Data reduction recipe to be used  HIERARCH ESO OCS REQTIME     =       10.000 / Requested integration time [s]    HIERARCH ESO OCS SADT AOSA1 ID= 'S1112131452' / AO star A ID                    HIERARCH ESO OCS SADT AOSA2 ID= 'S1112131457' / AO star A ID                    HIERARCH ESO OCS SADT AOSA3 ID= 'S1112121202' / AO star A ID                    HIERARCH ESO OCS SADT AOSA4 ID= 'S1112131466' / AO star A ID                    HIERARCH ESO OCS SADT AOSA5 ID= 'S1112121198' / AO star A ID                    HIERARCH ESO OCS SADT AOSB1 ID= 'S1112123676' / AO star B ID                    HIERARCH ESO OCS SADT AOSB2 ID= 'S1112123642' / AO star B ID                    HIERARCH ESO OCS SADT AOSB3 ID= 'S1112123646' / AO star B ID                    HIERARCH ESO OCS SADT AOSB4 ID= 'S1112123681' / AO star B ID                    HIERARCH ESO OCS SADT AOSB5 ID= 'S1112123662' / AO star B ID                    HIERARCH ESO OCS SADT AREA ID=            1 / Survey area ID                    HIERARCH ESO OCS SADT CAT ID = 'GSC-2 at ESO' / Guide star catalogue used       HIERARCH ESO OCS SADT GS1 ID = 'S1112131456' / Guide star ID                    HIERARCH ESO OCS SADT GS2 ID = 'S1112123670' / Guide star ID                    HIERARCH ESO OCS SADT GS3 ID = 'S11121314521' / Guide star ID                   HIERARCH ESO OCS SADT GS4 ID = 'S11121314346' / Guide star ID                   HIERARCH ESO OCS SADT GS5 ID = 'S11121314386' / Guide star ID                   HIERARCH ESO OCS SADT ID     = 'disk    '   / Survey ID                         HIERARCH ESO OCS SADT IP ID  = 'SADT v3.09, VIRCAM-150.09' / Creator software veHIERARCH ESO OCS SADT MAXJIT =         15.0 / Maximum jitter size [arcsec]      HIERARCH ESO OCS SADT OVERLAPX=        60.0 / Tile overlap in X [arcsec]        HIERARCH ESO OCS SADT OVERLAPY=        60.0 / Tile overlap in Y [arcsec]        HIERARCH ESO OCS SADT PATTERN= 'Tile6n  '   / Tile pattern ID                   HIERARCH ESO OCS SADT TILE DEC= -602109.000 / Tile Declination [DDMMSS.TTT]     HIERARCH ESO OCS SADT TILE ID= '4_1     '   / Tile ID within survey area        HIERARCH ESO OCS SADT TILE OFFANGLE= -13.572 / Tile rotator offset angle [deg]  HIERARCH ESO OCS SADT TILE RA=   115018.720 / Tile RA [HHMMSS.TTT]              HIERARCH ESO OCS TARG ALPHAOBJ=  115018.720 / RA of target object [HHMMSS.TTT]  HIERARCH ESO OCS TARG DELTAOBJ= -602109.000 / Dec of target object [DDMMSS.TTT] HIERARCH ESO OCS TARG X      =         0.00 / Pointing origin X coord [mm]      HIERARCH ESO OCS TARG Y      =         0.00 / Pointing origin Y coord [mm]      HIERARCH ESO TEL ABSROT END  =  -226.690969 / Abs rotator angle at end          HIERARCH ESO TEL ABSROT START=  -226.841097 / Abs rotator angle at start        HIERARCH ESO TEL AG REFX     =     1007.617 / Autoguider reference pixel X      HIERARCH ESO TEL AG REFY     =      732.815 / Autoguider reference pixel Y      HIERARCH ESO TEL AIRM END = 1.0 / Airmass at end of observation                 HIERARCH ESO TEL AIRM START = 1.0 / Airmass at start of observation             HIERARCH ESO TEL ALT         =       52.245 / Alt angle at start (deg)          HIERARCH ESO TEL AMBI FWHM END=        0.82 / Observatory Seeing queried from ASHIERARCH ESO TEL AMBI FWHM START=      0.79 / Observatory Seeing queried from ASHIERARCH ESO TEL AMBI PRES END=      739.35 / Observatory ambient air pressure qHIERARCH ESO TEL AMBI PRES START=    739.35 / Observatory ambient air pressure qHIERARCH ESO TEL AMBI RHUM   =            6. / Observatory ambient relative humiHIERARCH ESO TEL AMBI TAU0   =     0.005968 / Average coherence time            HIERARCH ESO TEL AMBI TEMP   =        12.45 / Observatory ambient temperature quHIERARCH ESO TEL AMBI WINDDIR=            5. / Observatory ambient wind directioHIERARCH ESO TEL AMBI WINDSP =         8.72 / Observatory ambient wind speed queHIERARCH ESO TEL AO ALT      =    51.667260 / Altitude of last closed loop aO   HIERARCH ESO TEL AO DATE     = '2010-03-14T03:46:18' / Last closed loop aO      HIERARCH ESO TEL AO M1 DATE  = '2010-03-14T03:58:35' / Last M1 update           HIERARCH ESO TEL AO M2 DATE  = '2010-03-14T03:58:36' / Last M2 update           HIERARCH ESO TEL AO MODES    =           15 / Which aO modes corrected closed loHIERARCH ESO TEL AZ          =      346.471 / Az angle at start (deg) S=0,W=90  HIERARCH ESO TEL DATE        = 'not set '   / TCS installation date             HIERARCH ESO TEL DID         = 'ESO-VLT-DIC.TCS-01.00' / Data dictionary for TELHIERARCH ESO TEL DID1        = 'ESO-VLT-DIC.VTCS-0.2' / Additional data dict. foHIERARCH ESO TEL DOME STATUS = 'FULLY-OPEN' / Dome status                       HIERARCH ESO TEL ECS FLATFIELD=           0 / Flat field level                  HIERARCH ESO TEL ECS MOONSCR =         1.00 / Moon screen position              HIERARCH ESO TEL ECS VENT1   =         1.00 / State of vent i                   HIERARCH ESO TEL ECS VENT2   =         1.00 / State of vent i                   HIERARCH ESO TEL ECS VENT3   =         1.00 / State of vent i                   HIERARCH ESO TEL ECS WINDSCR =         1.00 / Wind screen position              HIERARCH ESO TEL FOCU ID     = 'CA      '   / Telescope focus station ID        HIERARCH ESO TEL FOCU VALUE  =        2.788 / M2 setting (mm)                   HIERARCH ESO TEL GEOELEV     =         2530. / Elevation above sea level (m)    HIERARCH ESO TEL GEOLAT      =     -24.6157 / Tel geo latitute (+=North) (deg)  HIERARCH ESO TEL GEOLON      =     -70.3976 / Tel geo longitude (+=East) (deg)  HIERARCH ESO TEL GUID DEC    =    -59.73485 / Guide star DEC J2000              HIERARCH ESO TEL GUID FWHM   =         1.32 / Seeing measured by autoguider     HIERARCH ESO TEL GUID ID     = 'PY      '   / Guider ID                         HIERARCH ESO TEL GUID MAG    =        10.30 / Magnitude of guide star           HIERARCH ESO TEL GUID PEAKINT=         0.00 / Peak intensity of guide star      HIERARCH ESO TEL GUID RA     =   177.651375 / Guide star RA J2000               HIERARCH ESO TEL GUID STATUS = 'ON      '   / Status of autoguider              HIERARCH ESO TEL ID          = 'v 0.106+'   / TCS version number                HIERARCH ESO TEL M2 ACENTRE  =       -58.35 / M2 centring alpha                 HIERARCH ESO TEL M2 ATILT    =       137.14 / M2 tilt alpha                     HIERARCH ESO TEL M2 BCENTRE  =        97.21 / M2 centring beta                  HIERARCH ESO TEL M2 BTILT    =        24.18 / M2 tilt beta                      HIERARCH ESO TEL M2 Z        =      2.78841 / Focussing position of M2 in Z coorHIERARCH ESO TEL MOON DEC    =     -6.01633 / -06:00:58.7 DEC (J2000) (deg)     HIERARCH ESO TEL MOON RA     =   335.186623 / 22:20:44.7 RA (J2000) (deg)       HIERARCH ESO TEL OPER        = 'Operator name not set' / Telescope Operator     HIERARCH ESO TEL PARANG END  =      -25.455 / Parallactic angle at end (deg)    HIERARCH ESO TEL PARANG START=      -25.600 / Parallactic angle at start (deg)  HIERARCH ESO TEL POSANG      =   -13.458000 / Rot position angle at start       HIERARCH ESO TEL TARG ALPHA  =   115050.125 / Alpha coordinate for the target   HIERARCH ESO TEL TARG COORDTYPE= 'M       ' / Coordinate type (M=mean A=apparentHIERARCH ESO TEL TARG DELTA  =  -602753.356 / Delta coordinate for the target   HIERARCH ESO TEL TARG EPOCH  =     2000.000 / Epoch                             HIERARCH ESO TEL TARG EPOCHSYSTEM= 'J       ' / Epoch system (default J=Julian) HIERARCH ESO TEL TARG EQUINOX=     2000.000 / Equinox                           HIERARCH ESO TEL TARG PARALLAX=       0.000 / Parallax                          HIERARCH ESO TEL TARG PMA    =     0.000000 / Proper Motion Alpha               HIERARCH ESO TEL TARG PMD    =     0.000000 / Proper motion Delta               HIERARCH ESO TEL TARG RADVEL =        0.000 / Radial velocity                   HIERARCH ESO TEL TH M1 TEMP  =        13.81 / M1 superficial temperature        HIERARCH ESO TEL TH STR TEMP =        13.78 / Telescope structure temperature   HIERARCH ESO TEL TRAK STATUS = 'NORMAL  '   / Tracking status                   HIERARCH ESO TPL DID         = 'ESO-VLT-DIC.TPL-1.9' / Data dictionary for TPL  HIERARCH ESO TPL EXPNO       =           11 / Exposure number within template   HIERARCH ESO TPL FILE DIRNAME= '$INS_ROOT/$INS_USER/MISC/VISTA' / Storage filenaHIERARCH ESO TPL ID          = 'VIRCAM_img_obs_tile6' / Template signature ID   HIERARCH ESO TPL NAME        = 'VIRCAM tile 6 observation' / Template name      HIERARCH ESO TPL NEXP        =           12 / Number of exposures within templatHIERARCH ESO TPL PRESEQ      = 'VIRCAM_img_obs_tile.seq' / Sequencer script     HIERARCH ESO TPL START       = '2010-03-14T03:52:53' / TPL start time           HIERARCH ESO TPL VERSION     = '$Revision: 1.51 $' / Version of the template    JITTER_I=                    1          / Sequence number of jitter             JITTER_X=              -10.000          / X offset in jitter pattern [arcsec]   JITTER_Y=              -10.000          / Y offset in jitter pattern [arcsec]   JITTRNUM=                  267          / Value of 1st OBSNUM in jitter seq     JITTR_ID= 'Jitter2u'                    / Name of jitter pattern                NJITTER =                    2          / Number of jitter positions            NOFFSETS=                    6          / Number of offset positions            NUSTEP  =                    1          / Number of microstep positions         OBSNUM  =                  267          / Observation number                    OFFSET_I=                    6          / Sequence number of offset             OFFSET_X=              329.779          / X offset [arcsec]                     OFFSET_Y=             -329.779          / Y offset [arcsec]                     OFFSTNUM=                  257          / First OBSNUM in offset sequence       OFFST_ID= 'Tile6n  '                    / Name of offset pattern                RECIPE  = 'DEFAULT '                    / Data reduction recipe to be used      REQTIME =               10.000          / Requested integration time [s]        USTEPNUM=                  267          / Value of 1st OBSNUM in ustep seq      USTEP_I =                    1          / Sequence number of ustep              USTEP_ID= 'Single  '                    / Name of ustep pattern                 USTEP_X =                0.000          / X offset in ustep pattern [arcsec]    USTEP_Y =                0.000          / Y offset in ustep pattern [arcsec]    ARCFILE = 'VCAM.2010-03-14T03:58:36.488.fits' / Archive File Name               PREVIEWV= '$Id: preview,v 1.28 2010-06-15 09:50:17 jim Exp $' / Version of previVSA_TIME= '150116150208082259' / VSA time stamp                                 VSA_MFID=        1000000018246 / VSA Multiframe ID                              CASUVERS= 'vircam version 1.3' / CASU Release Version Number                    OBSTATUS= 'Completed'          / ESO OB status                                  ESOGRADE= 'B       '           / ESO grade                                      SOFTNAME= 'mosaic  '           / Main program that created this file            SOFTVERS= '1.0.25  '           / Version of CASUtools                           SOFTDATE= '$Date: 2013-02-07 16:04:40 $' / Date this version was released       SOFTAUTH= 'Jim Lewis <jrl@ast.cam.ac.uk>' / Contact for bug reports             SOFTINST= 'CASU http://casu.ast.cam.ac.uk/' / URL for CASU                      PRODID  =                  271 / Product ID of deep stack or mosaic             RELNUM  =                    8 / Release number of deep stack or mosaic         MJD-END =     56420.2012830463 / End MJD of observation                         CIR_CPM = 'e20150116_0012000271_dp_st_tl_conf.fit[1]' / Confidence Map          CTYPE1  = 'RA---TAN'                                                            CTYPE2  = 'DEC--TAN'                                                            CRVAL1  =     177.582950185332                                                  CRVAL2  =    -60.3532023626218                                                  CRPIX1  = 6.283500000000000E+03                                                 CRPIX2  = -6.397500000000000E+03                                                CD1_1   = -2.20393231860803E-05                                                 CD1_2   = 9.21967516629792E-05                                                  CD2_1   = -9.21715163940487E-05                                                 CD2_2   = -2.1956306141603E-05                                                  DRIBBLE = 'bilinear'           / Interpolation method                           PROV0000= 'e20150116_0012000271_dp_st_tl.fit' / Output file                     PROV0001= '20141202_v8/e20141202_0012001591_dp_st.fit' / Card # 1               PROV0002= '20141202_v8/e20141202_0012001601_dp_st.fit' / Card # 2               PROV0003= '20141202_v8/e20141202_0012001621_dp_st.fit' / Card # 3               PROV0004= '20141202_v8/e20141202_0012001636_dp_st.fit' / Card # 4               PROV0005= '20141202_v8/e20141202_0012001651_dp_st.fit' / Card # 5               PROV0006= '20141202_v8/e20141202_0012001666_dp_st.fit' / Card # 6               NIGHTZPT=         -999999500.0 / Average photometric ZP (mags) for night        NIGHTZRR=         -999999500.0 / Photometric ZP sigma for night (mags)          NIGHTNUM=            -99999999 / Number of ZP used in band for night            TEXPTIME=                192.0 / Total exposure time in this detector (s)       TEXPSUM =                576.0 / Total integration time of all exposures (s)    ABMAGLIM=    20.42465436964661 / point source 5-sigma limiting AB magnitude     NUMZPT  =                  361 / Number of stars used to calculate zeropoint    MAGZRR  =               0.0013 / Error on zeropoint of detector                 MAGZPT  =              23.0328 / Zeropoint of detector                                                                                                          END                                                                                                                                                                                                                                                                                                                                                                                                                                                                                                                                                                                                                                                                                                                                                                                                                                                                                                                                                                                                                                                                                                                                                                                                                                                                                                                                                                                                                                                                                                                                                                                                                                                                                                                                                                                                                                                                                                                                                                                                                                                                                                                                                                                                                                                                                                                                                                                                                                                                                                                                                                             \n"
     ]
    }
   ],
   "source": [
    "header_H = hdul[0].header\n",
    "header_J = hdul[1].header\n",
    "header_Ks = hdul[2].header\n",
    "print(header_Ks)"
   ]
  },
  {
   "cell_type": "code",
   "execution_count": 163,
   "metadata": {},
   "outputs": [
    {
     "data": {
      "text/plain": [
       "<matplotlib.image.AxesImage at 0x7f5780ae7130>"
      ]
     },
     "execution_count": 163,
     "metadata": {},
     "output_type": "execute_result"
    },
    {
     "data": {
      "image/png": "[encoded data removed]",
      "text/plain": [
       "<Figure size 432x288 with 2 Axes>"
      ]
     },
     "metadata": {
      "needs_background": "light"
     },
     "output_type": "display_data"
    }
   ],
   "source": [
    "#plt.imshow(hdu_H.data,origin='lower')\n",
    "#plt.imshow(hdul[0].data,origin='lower')\n",
    "\n",
    "f, (ax1, ax2) = plt.subplots(1, 2, sharey=True)\n",
    "ax1.imshow(hdu_H.data,origin='lower')\n",
    "\n",
    "ax2.imshow(hdul[0].data,origin='lower')"
   ]
  },
  {
   "cell_type": "code",
   "execution_count": 164,
   "metadata": {},
   "outputs": [
    {
     "data": {
      "text/plain": [
       "<matplotlib.image.AxesImage at 0x7f57809c17c0>"
      ]
     },
     "execution_count": 164,
     "metadata": {},
     "output_type": "execute_result"
    },
    {
     "data": {
      "image/png": "[encoded data removed]",
      "text/plain": [
       "<Figure size 432x288 with 2 Axes>"
      ]
     },
     "metadata": {
      "needs_background": "light"
     },
     "output_type": "display_data"
    }
   ],
   "source": [
    "f, (ax1, ax2) = plt.subplots(1, 2, sharey=True)\n",
    "ax1.imshow(hdu_J.data,origin='lower')\n",
    "\n",
    "ax2.imshow(hdul[1].data,origin='lower')"
   ]
  },
  {
   "cell_type": "code",
   "execution_count": 165,
   "metadata": {},
   "outputs": [
    {
     "data": {
      "text/plain": [
       "<matplotlib.image.AxesImage at 0x7f57808a4fd0>"
      ]
     },
     "execution_count": 165,
     "metadata": {},
     "output_type": "execute_result"
    },
    {
     "data": {
      "image/png": "[encoded data removed]",
      "text/plain": [
       "<Figure size 432x288 with 2 Axes>"
      ]
     },
     "metadata": {
      "needs_background": "light"
     },
     "output_type": "display_data"
    }
   ],
   "source": [
    "f, (ax1, ax2) = plt.subplots(1, 2, sharey=True)\n",
    "ax1.imshow(hdu_Ks.data,origin='lower')\n",
    "\n",
    "ax2.imshow(hdul[2].data,origin='lower')"
   ]
  },
  {
   "cell_type": "code",
   "execution_count": null,
   "metadata": {},
   "outputs": [],
   "source": []
  }
 ],
 "metadata": {
  "kernelspec": {
   "display_name": "Python 3",
   "language": "python",
   "name": "python3"
  },
  "language_info": {
   "codemirror_mode": {
    "name": "ipython",
    "version": 3
   },
   "file_extension": ".py",
   "mimetype": "text/x-python",
   "name": "python",
   "nbconvert_exporter": "python",
   "pygments_lexer": "ipython3",
   "version": "3.8.3"
  }
 },
 "nbformat": 4,
 "nbformat_minor": 4
}
